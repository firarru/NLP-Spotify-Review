{
  "nbformat": 4,
  "nbformat_minor": 0,
  "metadata": {
    "colab": {
      "provenance": [],
      "collapsed_sections": [
        "CWhJAfSVnZ8k"
      ],
      "authorship_tag": "ABX9TyPwlTTkxUozcVukC2VffsWH",
      "include_colab_link": true
    },
    "kernelspec": {
      "name": "python3",
      "display_name": "Python 3"
    },
    "language_info": {
      "name": "python"
    }
  },
  "cells": [
    {
      "cell_type": "markdown",
      "metadata": {
        "id": "view-in-github",
        "colab_type": "text"
      },
      "source": [
        "<a href=\"https://colab.research.google.com/github/firarru/NLP-Spotify-Review/blob/main/NLP_Spotify_Reviews.ipynb\" target=\"_parent\"><img src=\"https://colab.research.google.com/assets/colab-badge.svg\" alt=\"Open In Colab\"/></a>"
      ]
    },
    {
      "cell_type": "markdown",
      "source": [
        "### **Setup**"
      ],
      "metadata": {
        "id": "CWhJAfSVnZ8k"
      }
    },
    {
      "cell_type": "code",
      "execution_count": 1,
      "metadata": {
        "id": "WHppG5oKmbfe"
      },
      "outputs": [],
      "source": [
        "import numpy as np\n",
        "import pandas as pd\n",
        "import matplotlib.pyplot as plt\n",
        "import seaborn as sns\n",
        "import string\n",
        "import re\n",
        "import nltk\n",
        "\n",
        "from tqdm import trange\n",
        "from nltk import tokenize\n",
        "from nltk.corpus import stopwords\n",
        "from nltk.stem import WordNetLemmatizer\n",
        "from nltk.probability import FreqDist\n",
        "from collections import Counter\n",
        "from sklearn.feature_extraction.text import CountVectorizer"
      ]
    },
    {
      "cell_type": "code",
      "source": [
        "import warnings\n",
        "warnings.filterwarnings('ignore')\n",
        "nltk.download('omw-1.4', quiet=True)\n",
        "sns.set_style('darkgrid')\n",
        "plt.rcParams['figure.figsize'] = (17,7)\n",
        "plt.rcParams['font.size'] = 18"
      ],
      "metadata": {
        "id": "N4kUJgMpn954"
      },
      "execution_count": 2,
      "outputs": []
    },
    {
      "cell_type": "markdown",
      "source": [
        "### **Loading Data**"
      ],
      "metadata": {
        "id": "txfzcGAqoDhw"
      }
    },
    {
      "cell_type": "code",
      "source": [],
      "metadata": {
        "id": "0TtKC2y2oIAD"
      },
      "execution_count": null,
      "outputs": []
    }
  ]
}